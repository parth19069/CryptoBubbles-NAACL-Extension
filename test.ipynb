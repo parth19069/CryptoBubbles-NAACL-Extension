{
 "cells": [
  {
   "cell_type": "code",
   "execution_count": 2,
   "metadata": {},
   "outputs": [],
   "source": [
    "import pickle\n",
    "\n",
    "with open('test_data_price_only_lookback_5_lookahead_10_stride_3.pkl', 'rb') as file:\n",
    "    x = pickle.load(file)"
   ]
  },
  {
   "cell_type": "code",
   "execution_count": 4,
   "metadata": {},
   "outputs": [
    {
     "name": "stdout",
     "output_type": "stream",
     "text": [
      "{'coin_name': 'STPT', 'lookback_dates': ['2020-12-07', '2020-12-08', '2020-12-09', '2020-12-10', '2020-12-11'], 'lookaheaddates': ['2020-12-12', '2020-12-13', '2020-12-14', '2020-12-15', '2020-12-16', '2020-12-17', '2020-12-18', '2020-12-19', '2020-12-20', '2020-12-21'], 'bubble': [0.0, 0.0, 0.0, 0.0, 0.0, 0.0, 0.0, 0.0, 0.0, 0.0], 'lookback_price': [0.01695, 0.01556, 0.01616, 0.01648, 0.01602], 'lookahead_price': [0.01731, 0.01756, 0.01842, 0.019209999999999998, 0.01917, 0.01839, 0.01832, 0.019790000000000002, 0.01871, 0.01881], 'lookahead_starts': [0, 0, 0, 0, 0, 0, 0, 0, 0, 0], 'lookahead_ends': [0, 0, 0, 0, 0, 0, 0, 0, 0, 0], 'n_bubbles': 0}\n"
     ]
    }
   ],
   "source": [
    "print(x[0])"
   ]
  }
 ],
 "metadata": {
  "kernelspec": {
   "display_name": "computer_vision",
   "language": "python",
   "name": "python3"
  },
  "language_info": {
   "codemirror_mode": {
    "name": "ipython",
    "version": 3
   },
   "file_extension": ".py",
   "mimetype": "text/x-python",
   "name": "python",
   "nbconvert_exporter": "python",
   "pygments_lexer": "ipython3",
   "version": "3.9.7"
  },
  "orig_nbformat": 4,
  "vscode": {
   "interpreter": {
    "hash": "85b1db67202a22c0164e18849e85225c385668d55f66b602110c77d4fc6f23f4"
   }
  }
 },
 "nbformat": 4,
 "nbformat_minor": 2
}
